{
  "nbformat": 4,
  "nbformat_minor": 0,
  "metadata": {
    "colab": {
      "name": "Preprocess.ipynb",
      "provenance": [],
      "collapsed_sections": []
    },
    "kernelspec": {
      "name": "python3",
      "display_name": "Python 3"
    }
  },
  "cells": [
    {
      "cell_type": "code",
      "metadata": {
        "id": "Ds67s1wDV9Zo",
        "colab_type": "code",
        "colab": {
          "base_uri": "https://localhost:8080/",
          "height": 34
        },
        "outputId": "269dc7ad-1858-4afa-8792-d0dbdf8cfd3d"
      },
      "source": [
        "import numpy as np\n",
        "import cv2\n",
        "from skimage.util import img_as_float\n",
        "import tensorflow as tf\n",
        "import matplotlib.pyplot as plt\n",
        "import time\n",
        "!pip install ffmpeg\n",
        "import ffmpeg"
      ],
      "execution_count": 9,
      "outputs": [
        {
          "output_type": "stream",
          "text": [
            "Requirement already satisfied: ffmpeg in /usr/local/lib/python3.6/dist-packages (1.4)\n"
          ],
          "name": "stdout"
        }
      ]
    },
    {
      "cell_type": "code",
      "metadata": {
        "id": "gp2aXMoPWCHi",
        "colab_type": "code",
        "colab": {
          "base_uri": "https://localhost:8080/",
          "height": 34
        },
        "outputId": "d8de3913-8ea9-4cf1-ff5d-e30c05a58144"
      },
      "source": [
        "from google.colab import drive\n",
        "drive.mount('rppg')"
      ],
      "execution_count": 10,
      "outputs": [
        {
          "output_type": "stream",
          "text": [
            "Drive already mounted at rppg; to attempt to forcibly remount, call drive.mount(\"rppg\", force_remount=True).\n"
          ],
          "name": "stdout"
        }
      ]
    },
    {
      "cell_type": "code",
      "metadata": {
        "id": "TDo8CH6VWPB7",
        "colab_type": "code",
        "colab": {}
      },
      "source": [
        "def DeepPhysPreprocessing(videoFilePath, dim):\n",
        "\n",
        "    # load parameters\n",
        "    start_time = time.time()\n",
        "    dataURL = videoFilePath\n",
        "\n",
        "    L = dim # 36\n",
        "    t = []\n",
        "    i = 1\n",
        "\n",
        "    vidObj = cv2.VideoCapture(dataURL);   \n",
        "    totalFrames = int(vidObj.get(cv2.CAP_PROP_FRAME_COUNT)) # get total frame size\n",
        "    Xsub = np.zeros((totalFrames + 1, L, L, 3), dtype = np.float32)\n",
        "    height = vidObj.get(cv2.CAP_PROP_FRAME_HEIGHT)\n",
        "    width = vidObj.get(cv2.CAP_PROP_FRAME_WIDTH)\n",
        "\n",
        "    print(\"height\", height)\n",
        "    print(\"width\", width)\n",
        "    \n",
        "    success, img = vidObj.read()\n",
        "    dims = img.shape\n",
        "\n",
        "    while success:\n",
        "      t.append(vidObj.get(cv2.CAP_PROP_POS_MSEC))# current timestamp in milisecond \n",
        "      time_cur = time.time()\n",
        "      vidLxL = cv2.resize(img_as_float(img[:, int(width/2) - int(height/2 + 1) : int(height/2) + int(width/2), :]), (L, L))\n",
        "      vidLxL = cv2.rotate(vidLxL, cv2.ROTATE_90_CLOCKWISE) # rotate 90 degree\n",
        "      vidLxL[vidLxL > 1] = 1\n",
        "      vidLxL[vidLxL < (1/255)] = 1/255\n",
        "      Xsub[i, :, :, :] = vidLxL\n",
        "      success, img = vidObj.read() # read the next one\n",
        "      i = i + 1\n",
        "    \n",
        "    time_cur = time.time()\n",
        "    dXsub = np.zeros((len(t) - 1, L, L, 3), dtype = np.float32)\n",
        "    for j in range(1, len(t) - 1):\n",
        "      dXsub[j, :, :, :] = (Xsub[j+1, :, :, :] - Xsub[j, :, :, :]) / (Xsub[j+1, :, :, :] + Xsub[j, :, :, :])\n",
        "    dXsub = dXsub / np.std(dXsub, ddof=1)\n",
        "    Xsub = Xsub - Xsub.mean(axis = 0)\n",
        "    Xsub = Xsub  / np.std(Xsub, ddof=1)\n",
        "\n",
        "    Xsub = Xsub[1:totalFrames, :, :, :]\n",
        "    plt.imshow(dXsub[1, :, :, :]) # Plot an example of data after preprocess\n",
        "    dXsub = np.concatenate((dXsub, Xsub), axis = 3);\n",
        "    print(time.time() - start_time)\n",
        "    print(dXsub.shape)\n",
        "    return dXsub"
      ],
      "execution_count": 11,
      "outputs": []
    },
    {
      "cell_type": "code",
      "metadata": {
        "id": "07lH2rZnWY9F",
        "colab_type": "code",
        "colab": {
          "base_uri": "https://localhost:8080/",
          "height": 351
        },
        "outputId": "5cbf5320-74ed-4653-83be-d9ef126c4d5c"
      },
      "source": [
        "test = DeepPhysPreprocessing('rppg/My Drive/rppg/sample_video.mp4', 36)"
      ],
      "execution_count": 12,
      "outputs": [
        {
          "output_type": "stream",
          "text": [
            "height 1080.0\n",
            "width 1920.0\n"
          ],
          "name": "stdout"
        },
        {
          "output_type": "stream",
          "text": [
            "Clipping input data to the valid range for imshow with RGB data ([0..1] for floats or [0..255] for integers).\n"
          ],
          "name": "stderr"
        },
        {
          "output_type": "stream",
          "text": [
            "3.594715118408203\n",
            "(148, 36, 36, 6)\n"
          ],
          "name": "stdout"
        },
        {
          "output_type": "display_data",
          "data": {
            "image/png": "[encoded data removed]",
            "text/plain": [
              "<Figure size 432x288 with 1 Axes>"
            ]
          },
          "metadata": {
            "tags": [],
            "needs_background": "light"
          }
        }
      ]
    }
  ]
}