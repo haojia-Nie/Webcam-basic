{
 "cells": [
  {
   "cell_type": "code",
   "execution_count": 70,
   "metadata": {
    "colab": {
     "base_uri": "https://localhost:8080/",
     "height": 34
    },
    "colab_type": "code",
    "id": "Ds67s1wDV9Zo",
    "outputId": "269dc7ad-1858-4afa-8792-d0dbdf8cfd3d"
   },
   "outputs": [],
   "source": [
    "import numpy as np\n",
    "import cv2\n",
    "from skimage.util import img_as_float\n",
    "import tensorflow as tf\n",
    "import matplotlib.pyplot as plt\n",
    "import time\n",
    "import scipy.io"
   ]
  },
  {
   "cell_type": "code",
   "execution_count": 120,
   "metadata": {
    "colab": {},
    "colab_type": "code",
    "id": "TDo8CH6VWPB7"
   },
   "outputs": [
    {
     "name": "stdout",
     "output_type": "stream",
     "text": [
      "height 1080.0\n",
      "width 1920.0\n"
     ]
    },
    {
     "name": "stderr",
     "output_type": "stream",
     "text": [
      "Clipping input data to the valid range for imshow with RGB data ([0..1] for floats or [0..255] for integers).\n"
     ]
    },
    {
     "name": "stdout",
     "output_type": "stream",
     "text": [
      "2.001063823699951\n",
      "(148, 36, 36, 6)\n"
     ]
    },
    {
     "data": {
      "image/png": "[encoded data removed]",
      "text/plain": [
       "<Figure size 432x288 with 1 Axes>"
      ]
     },
     "metadata": {
      "needs_background": "light"
     },
     "output_type": "display_data"
    }
   ],
   "source": [
    "def DeepPhysPreprocessing(videoFilePath, dim):\n",
    "\n",
    "    # load parameters\n",
    "    start_time = time.time()\n",
    "    dataURL = videoFilePath\n",
    "\n",
    "    L = dim # 36\n",
    "    t = []\n",
    "    i = 0\n",
    "\n",
    "    vidObj = cv2.VideoCapture(dataURL);   \n",
    "    totalFrames = int(vidObj.get(cv2.CAP_PROP_FRAME_COUNT)) # get total frame size\n",
    "    Xsub = np.zeros((totalFrames + 1, L, L, 3), dtype = np.float32)\n",
    "    height = vidObj.get(cv2.CAP_PROP_FRAME_HEIGHT)\n",
    "    width = vidObj.get(cv2.CAP_PROP_FRAME_WIDTH)\n",
    "\n",
    "    print(\"height\", height)\n",
    "    print(\"width\", width)\n",
    "    \n",
    "    success, img = vidObj.read()\n",
    "    dims = img.shape\n",
    "\n",
    "    while success:\n",
    "        \n",
    "        t.append(vidObj.get(cv2.CAP_PROP_POS_MSEC))# current timestamp in milisecond \n",
    "        time_cur = time.time()\n",
    "        vidLxL = cv2.resize(img_as_float(img[:, int(width/2)-int(height/2 + 1):int(height/2)+int(width/2), :]), (L, L))\n",
    "        vidLxL = cv2.rotate(vidLxL, cv2.ROTATE_90_CLOCKWISE) # rotate 90 degree\n",
    "        vidLxL = cv2.cvtColor(vidLxL.astype('float32'), cv2.COLOR_BGR2RGB)\n",
    "        vidLxL[vidLxL > 1] = 1\n",
    "        vidLxL[vidLxL < (1/255)] = 1/255\n",
    "        Xsub[i, :, :, :] = vidLxL\n",
    "        success, img = vidObj.read() # read the next one\n",
    "        i = i + 1\n",
    "    \n",
    "    time_cur = time.time()\n",
    "    dXsub = np.zeros((len(t) - 1, L, L, 3), dtype = np.float32)\n",
    "    for j in range(len(t) - 1):\n",
    "        dXsub[j, :, :, :] = (Xsub[j+1, :, :, :] - Xsub[j, :, :, :]) / (Xsub[j+1, :, :, :] + Xsub[j, :, :, :])\n",
    "    \n",
    "    dXsub = dXsub / np.std(dXsub)\n",
    "    Xsub = Xsub - np.mean(Xsub)\n",
    "    Xsub = Xsub  / np.std(Xsub)\n",
    "\n",
    "    Xsub = Xsub[1:totalFrames, :, :, :]\n",
    "    plt.imshow(dXsub[30, :, :, :]) # Plot an example of data after preprocess\n",
    "    dXsub = np.concatenate((dXsub, Xsub), axis = 3);\n",
    "    print(time.time() - start_time)\n",
    "    print(dXsub.shape)\n",
    "    return dXsub\n",
    "test = DeepPhysPreprocessing('./sample_video.mp4', 36)"
   ]
  },
  {
   "cell_type": "code",
   "execution_count": 118,
   "metadata": {},
   "outputs": [],
   "source": [
    "import h5py\n",
    "mat = np.transpose(np.array(h5py.File('nie.mat', 'r')[\"dXsub\"]))"
   ]
  },
  {
   "cell_type": "code",
   "execution_count": 111,
   "metadata": {},
   "outputs": [
    {
     "name": "stderr",
     "output_type": "stream",
     "text": [
      "Clipping input data to the valid range for imshow with RGB data ([0..1] for floats or [0..255] for integers).\n"
     ]
    },
    {
     "data": {
      "text/plain": [
       "<matplotlib.image.AxesImage at 0x149b6fdd8>"
      ]
     },
     "execution_count": 111,
     "metadata": {},
     "output_type": "execute_result"
    },
    {
     "data": {
      "image/png": "[encoded data removed]",
      "text/plain": [
       "<Figure size 432x288 with 1 Axes>"
      ]
     },
     "metadata": {
      "needs_background": "light"
     },
     "output_type": "display_data"
    }
   ],
   "source": [
    "plt.imshow(mat[0, :, :, :3])"
   ]
  },
  {
   "cell_type": "code",
   "execution_count": null,
   "metadata": {},
   "outputs": [],
   "source": []
  },
  {
   "cell_type": "code",
   "execution_count": null,
   "metadata": {},
   "outputs": [],
   "source": []
  }
 ],
 "metadata": {
  "colab": {
   "collapsed_sections": [],
   "name": "Preprocess.ipynb",
   "provenance": []
  },
  "kernelspec": {
   "display_name": "Python(tf-new)",
   "language": "python",
   "name": "tf-new"
  },
  "language_info": {
   "codemirror_mode": {
    "name": "ipython",
    "version": 3
   },
   "file_extension": ".py",
   "mimetype": "text/x-python",
   "name": "python",
   "nbconvert_exporter": "python",
   "pygments_lexer": "ipython3",
   "version": "3.6.5"
  }
 },
 "nbformat": 4,
 "nbformat_minor": 1
}
